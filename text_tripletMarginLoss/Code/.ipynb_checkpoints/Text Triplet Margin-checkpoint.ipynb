{
 "cells": [
  {
   "cell_type": "markdown",
   "metadata": {},
   "source": [
    "## TODO\n",
    "* "
   ]
  },
  {
   "cell_type": "markdown",
   "metadata": {},
   "source": [
    "### CURRENT OPTIMAL SETTINGS \n",
    "Who knows"
   ]
  },
  {
   "cell_type": "code",
   "execution_count": 1,
   "metadata": {
    "cellView": "both",
    "colab": {
     "base_uri": "https://localhost:8080/"
    },
    "id": "_RRfisl-96d1",
    "outputId": "a53d0cfe-4dfd-44e5-e4c7-144c4c1f1918"
   },
   "outputs": [],
   "source": [
    "# Library imports\n",
    "import wandb\n",
    "import os\n",
    "import numpy as np\n",
    "import torch\n",
    "import pandas as pd\n",
    "\n",
    "from pytorch_lightning import Trainer\n",
    "from pytorch_lightning.loggers import WandbLogger\n",
    "from pytorch_lightning.callbacks.early_stopping import EarlyStopping\n",
    "from pytorch_lightning.callbacks.model_checkpoint import ModelCheckpoint\n",
    "\n",
    "\n",
    "import dataset \n",
    "import metrics\n",
    "import etm\n",
    "import data\n",
    "import utls as utl\n",
    "import model as my_models\n",
    "import settings"
   ]
  },
  {
   "cell_type": "markdown",
   "metadata": {
    "id": "7kpwVnA-oKgG"
   },
   "source": [
    "# Settings"
   ]
  },
  {
   "cell_type": "code",
   "execution_count": 2,
   "metadata": {
    "cellView": "both",
    "colab": {
     "base_uri": "https://localhost:8080/"
    },
    "id": "tsQfpCSWaEVQ",
    "outputId": "bb9e1f72-d402-492a-ae11-1ffe1271c900"
   },
   "outputs": [
    {
     "name": "stdout",
     "output_type": "stream",
     "text": [
      "Device: cuda:3\n"
     ]
    }
   ],
   "source": [
    "# Imported settings\n",
    "emb_size = settings.emb_size\n",
    "num_topics = settings.num_topics\n",
    "rho_size = settings.rho_size\n",
    "enc_drop = settings.enc_drop\n",
    "t_hidden_size = settings.t_hidden_size\n",
    "theta_act = settings.theta_act\n",
    "batch_size = settings.batch_size\n",
    "batch_size_test = settings.batch_size_test\n",
    "emb_np_path = settings.emb_np_path\n",
    "emb_path = settings.emb_path\n",
    "\n",
    "checkpoint = None\n",
    "\n",
    "# training settings\n",
    "max_epochs = 20\n",
    "accumulate_grad_batches = 1\n",
    "log_every_n_steps = 1\n",
    "val_check_interval = 1\n",
    "\n",
    "device_num = 3\n",
    "device = torch.device(device_num)\n",
    "# lr = 25\n",
    "# lr_w = 25\n",
    "\n",
    "# model settings\n",
    "gamma=0.7 #Learning rate step gamma (default: 0.7)\n",
    "seed=42 #random seed (default: 42)\n",
    "save_model=False #save the trained model (default: False)\n",
    "\n",
    "# misc settings\n",
    "no_cuda=False #disables CUDA training (default: True)\n",
    "use_cuda = not no_cuda and torch.cuda.is_available()\n",
    "kwargs = {'num_workers': 10, 'pin_memory': True}\n",
    "torch.manual_seed(seed)\n",
    "\n",
    "print(\"Device:\", device)"
   ]
  },
  {
   "cell_type": "markdown",
   "metadata": {
    "id": "oYQLa-J7Dl-d"
   },
   "source": [
    "### Data Directories"
   ]
  },
  {
   "cell_type": "code",
   "execution_count": 3,
   "metadata": {
    "id": "qtWlI9ovDqtz"
   },
   "outputs": [
    {
     "name": "stdout",
     "output_type": "stream",
     "text": [
      "/home/text_tripletMarginLoss\n"
     ]
    }
   ],
   "source": [
    "project_path = '..'\n",
    "os.chdir(project_path)\n",
    "print(os.getcwd())"
   ]
  },
  {
   "cell_type": "markdown",
   "metadata": {},
   "source": [
    "## Make Data and Model"
   ]
  },
  {
   "cell_type": "code",
   "execution_count": 4,
   "metadata": {},
   "outputs": [],
   "source": [
    "# Make Data\n",
    "vocab,vocab_size = data.get_vocab()\n",
    "train_loader, test_loader = data.make_data(vocab, \n",
    "                            vocab_size, kwargs)\n",
    "\n",
    "# Make Embeddings\n",
    "embeddings = data.load_embeddings('./Data/embeddings.npz.npy', device)"
   ]
  },
  {
   "cell_type": "code",
   "execution_count": 5,
   "metadata": {},
   "outputs": [],
   "source": [
    "# Define hyperparameters\n",
    "lr = 1\n",
    "lr_w = 1250"
   ]
  },
  {
   "cell_type": "code",
   "execution_count": 7,
   "metadata": {},
   "outputs": [
    {
     "name": "stderr",
     "output_type": "stream",
     "text": [
      "GPU available: True, used: True\n",
      "TPU available: False, using: 0 TPU cores\n",
      "LOCAL_RANK: 0 - CUDA_VISIBLE_DEVICES: [0,1,2,3,4,5,6,7]\n",
      "initializing ddp: GLOBAL_RANK: 0, MEMBER: 1/1\n",
      "\u001b[34m\u001b[1mwandb\u001b[0m: Currently logged in as: \u001b[33mwitw\u001b[0m (use `wandb login --relogin` to force relogin)\n",
      "\u001b[34m\u001b[1mwandb\u001b[0m: wandb version 0.10.33 is available!  To upgrade, please run:\n",
      "\u001b[34m\u001b[1mwandb\u001b[0m:  $ pip install wandb --upgrade\n"
     ]
    },
    {
     "data": {
      "text/html": [
       "\n",
       "                Tracking run with wandb version 0.10.31<br/>\n",
       "                Syncing run <strong style=\"color:#cdcd00\">restful-cloud-1155</strong> to <a href=\"https://wandb.ai\" target=\"_blank\">Weights & Biases</a> <a href=\"https://docs.wandb.com/integrations/jupyter.html\" target=\"_blank\">(Documentation)</a>.<br/>\n",
       "                Project page: <a href=\"https://wandb.ai/witw/qualitative-analysis\" target=\"_blank\">https://wandb.ai/witw/qualitative-analysis</a><br/>\n",
       "                Run page: <a href=\"https://wandb.ai/witw/qualitative-analysis/runs/giebc4fw\" target=\"_blank\">https://wandb.ai/witw/qualitative-analysis/runs/giebc4fw</a><br/>\n",
       "                Run data is saved locally in <code>./savedata/wandb/run-20210708_195619-giebc4fw</code><br/><br/>\n",
       "            "
      ],
      "text/plain": [
       "<IPython.core.display.HTML object>"
      ]
     },
     "metadata": {},
     "output_type": "display_data"
    },
    {
     "name": "stderr",
     "output_type": "stream",
     "text": [
      "\n",
      "  | Name                | Type              | Params\n",
      "----------------------------------------------------------\n",
      "0 | triplet_margin_loss | TripletMarginLoss | 0     \n",
      "1 | etm                 | ETM               | 26.7 M\n",
      "2 | weigh               | GetWeightedTopics | 0     \n",
      "----------------------------------------------------------\n",
      "26.7 M    Trainable params\n",
      "0         Non-trainable params\n",
      "26.7 M    Total params\n",
      "106.855   Total estimated model params size (MB)\n"
     ]
    },
    {
     "name": "stdout",
     "output_type": "stream",
     "text": [
      "Validation sanity check:   0%|          | 0/1 [00:00<?, ?it/s]"
     ]
    },
    {
     "name": "stderr",
     "output_type": "stream",
     "text": [
      "/opt/conda/lib/python3.6/site-packages/pytorch_lightning/utilities/distributed.py:52: UserWarning: Your val_dataloader has `shuffle=True`, it is best practice to turn this off for validation and test dataloaders.\n",
      "  warnings.warn(*args, **kwargs)\n"
     ]
    },
    {
     "name": "stdout",
     "output_type": "stream",
     "text": [
      "Epoch 0:  90%|█████████ | 9/10 [00:02<00:00,  4.44it/s, loss=0.96, v_num=c4fw] \n",
      "Validating: 0it [00:00, ?it/s]\u001b[A\n",
      "Validating:   0%|          | 0/1 [00:00<?, ?it/s]\u001b[A\n",
      "Epoch 0: 100%|██████████| 10/10 [00:03<00:00,  2.67it/s, loss=0.96, v_num=c4fw]\n",
      "Epoch 1:  90%|█████████ | 9/10 [00:02<00:00,  3.97it/s, loss=0.938, v_num=c4fw]\n",
      "Validating: 0it [00:00, ?it/s]\u001b[A\n",
      "Validating:   0%|          | 0/1 [00:00<?, ?it/s]\u001b[A\n",
      "Epoch 1: 100%|██████████| 10/10 [00:03<00:00,  2.66it/s, loss=0.938, v_num=c4fw]\n",
      "Epoch 2: 100%|██████████| 10/10 [00:02<00:00,  4.57it/s, loss=0.879, v_num=c4fw]\n",
      "Validating: 0it [00:00, ?it/s]\u001b[A\n",
      "Validating:   0%|          | 0/1 [00:00<?, ?it/s]\u001b[A\n",
      "Epoch 2: 100%|██████████| 10/10 [00:03<00:00,  2.57it/s, loss=0.879, v_num=c4fw]\n",
      "Epoch 3: 100%|██████████| 10/10 [00:01<00:00,  5.06it/s, loss=0.824, v_num=c4fw]\n",
      "Validating: 0it [00:00, ?it/s]\u001b[A\n",
      "Validating:   0%|          | 0/1 [00:00<?, ?it/s]\u001b[A\n",
      "Epoch 3: 100%|██████████| 10/10 [00:03<00:00,  2.89it/s, loss=0.824, v_num=c4fw]\n",
      "Epoch 4: 100%|██████████| 10/10 [00:02<00:00,  4.39it/s, loss=0.781, v_num=c4fw]\n",
      "Validating: 0it [00:00, ?it/s]\u001b[A\n",
      "Validating:   0%|          | 0/1 [00:00<?, ?it/s]\u001b[A\n",
      "Epoch 4: 100%|██████████| 10/10 [00:03<00:00,  2.65it/s, loss=0.781, v_num=c4fw]\n",
      "Epoch 5: 100%|██████████| 10/10 [00:02<00:00,  4.55it/s, loss=0.759, v_num=c4fw]\n",
      "Validating: 0it [00:00, ?it/s]\u001b[A\n",
      "Validating:   0%|          | 0/1 [00:00<?, ?it/s]\u001b[A\n",
      "Epoch 5: 100%|██████████| 10/10 [00:03<00:00,  2.70it/s, loss=0.759, v_num=c4fw]\n",
      "Epoch 6: 100%|██████████| 10/10 [00:01<00:00,  5.03it/s, loss=0.725, v_num=c4fw]\n",
      "Validating: 0it [00:00, ?it/s]\u001b[A\n",
      "Validating:   0%|          | 0/1 [00:00<?, ?it/s]\u001b[A\n",
      "Epoch 6: 100%|██████████| 10/10 [00:03<00:00,  2.85it/s, loss=0.725, v_num=c4fw]\n",
      "Epoch 7: 100%|██████████| 10/10 [00:01<00:00,  5.03it/s, loss=0.706, v_num=c4fw]\n",
      "Validating: 0it [00:00, ?it/s]\u001b[A\n",
      "Validating:   0%|          | 0/1 [00:00<?, ?it/s]\u001b[A\n",
      "Epoch 7: 100%|██████████| 10/10 [00:03<00:00,  2.88it/s, loss=0.706, v_num=c4fw]\n",
      "Epoch 8: 100%|██████████| 10/10 [00:02<00:00,  4.75it/s, loss=0.685, v_num=c4fw]\n",
      "Validating: 0it [00:00, ?it/s]\u001b[A\n",
      "Validating:   0%|          | 0/1 [00:00<?, ?it/s]\u001b[A\n",
      "Epoch 8: 100%|██████████| 10/10 [00:03<00:00,  2.79it/s, loss=0.685, v_num=c4fw]\n",
      "Epoch 9: 100%|██████████| 10/10 [00:01<00:00,  5.32it/s, loss=0.66, v_num=c4fw] \n",
      "Validating: 0it [00:00, ?it/s]\u001b[A\n",
      "Validating:   0%|          | 0/1 [00:00<?, ?it/s]\u001b[A\n",
      "Epoch 9: 100%|██████████| 10/10 [00:03<00:00,  2.97it/s, loss=0.66, v_num=c4fw]\n",
      "Epoch 10: 100%|██████████| 10/10 [00:01<00:00,  5.16it/s, loss=0.642, v_num=c4fw]\n",
      "Validating: 0it [00:00, ?it/s]\u001b[A\n",
      "Validating:   0%|          | 0/1 [00:00<?, ?it/s]\u001b[A\n",
      "Epoch 10: 100%|██████████| 10/10 [00:03<00:00,  2.90it/s, loss=0.642, v_num=c4fw]\n",
      "Epoch 11: 100%|██████████| 10/10 [00:02<00:00,  4.67it/s, loss=0.619, v_num=c4fw]\n",
      "Validating: 0it [00:00, ?it/s]\u001b[A\n",
      "Validating:   0%|          | 0/1 [00:00<?, ?it/s]\u001b[A\n",
      "Epoch 11: 100%|██████████| 10/10 [00:03<00:00,  2.73it/s, loss=0.619, v_num=c4fw]\n",
      "Epoch 12: 100%|██████████| 10/10 [00:02<00:00,  4.94it/s, loss=0.598, v_num=c4fw]\n",
      "Validating: 0it [00:00, ?it/s]\u001b[A\n",
      "Validating:   0%|          | 0/1 [00:00<?, ?it/s]\u001b[A\n",
      "Epoch 12: 100%|██████████| 10/10 [00:03<00:00,  2.84it/s, loss=0.598, v_num=c4fw]\n",
      "Epoch 13: 100%|██████████| 10/10 [00:01<00:00,  5.03it/s, loss=0.585, v_num=c4fw]\n",
      "Validating: 0it [00:00, ?it/s]\u001b[A\n",
      "Validating:   0%|          | 0/1 [00:00<?, ?it/s]\u001b[A\n",
      "Epoch 13: 100%|██████████| 10/10 [00:03<00:00,  2.85it/s, loss=0.585, v_num=c4fw]\n",
      "Epoch 14: 100%|██████████| 10/10 [00:02<00:00,  4.89it/s, loss=0.565, v_num=c4fw]\n",
      "Validating: 0it [00:00, ?it/s]\u001b[A\n",
      "Validating:   0%|          | 0/1 [00:00<?, ?it/s]\u001b[A\n",
      "Epoch 14: 100%|██████████| 10/10 [00:03<00:00,  2.82it/s, loss=0.565, v_num=c4fw]\n",
      "Epoch 15: 100%|██████████| 10/10 [00:01<00:00,  5.07it/s, loss=0.553, v_num=c4fw]\n",
      "Validating: 0it [00:00, ?it/s]\u001b[A\n",
      "Validating:   0%|          | 0/1 [00:00<?, ?it/s]\u001b[A\n",
      "Epoch 15: 100%|██████████| 10/10 [00:03<00:00,  2.88it/s, loss=0.553, v_num=c4fw]\n",
      "Epoch 16: 100%|██████████| 10/10 [00:02<00:00,  4.63it/s, loss=0.524, v_num=c4fw]\n",
      "Validating: 0it [00:00, ?it/s]\u001b[A\n",
      "Validating:   0%|          | 0/1 [00:00<?, ?it/s]\u001b[A\n",
      "Epoch 16: 100%|██████████| 10/10 [00:03<00:00,  2.72it/s, loss=0.524, v_num=c4fw]\n",
      "Epoch 17: 100%|██████████| 10/10 [00:02<00:00,  4.41it/s, loss=0.512, v_num=c4fw]\n",
      "Validating: 0it [00:00, ?it/s]\u001b[A\n",
      "Validating:   0%|          | 0/1 [00:00<?, ?it/s]\u001b[A\n",
      "Epoch 17: 100%|██████████| 10/10 [00:03<00:00,  2.63it/s, loss=0.512, v_num=c4fw]\n",
      "Epoch 18: 100%|██████████| 10/10 [00:02<00:00,  4.88it/s, loss=0.484, v_num=c4fw]\n",
      "Validating: 0it [00:00, ?it/s]\u001b[A\n",
      "Validating:   0%|          | 0/1 [00:00<?, ?it/s]\u001b[A\n",
      "Epoch 18: 100%|██████████| 10/10 [00:03<00:00,  2.85it/s, loss=0.484, v_num=c4fw]\n",
      "Epoch 19: 100%|██████████| 10/10 [00:02<00:00,  4.98it/s, loss=0.469, v_num=c4fw]\n",
      "Validating: 0it [00:00, ?it/s]\u001b[A\n",
      "Validating:   0%|          | 0/1 [00:00<?, ?it/s]\u001b[A\n",
      "Epoch 19: 100%|██████████| 10/10 [00:03<00:00,  2.87it/s, loss=0.469, v_num=c4fw]\n",
      "Epoch 19: 100%|██████████| 10/10 [00:03<00:00,  2.86it/s, loss=0.469, v_num=c4fw]\n"
     ]
    },
    {
     "data": {
      "text/plain": [
       "1"
      ]
     },
     "execution_count": 7,
     "metadata": {},
     "output_type": "execute_result"
    }
   ],
   "source": [
    "# Make Model\n",
    "# if checkpoint:\n",
    "#     m = my_models.TripletNet.load_from_checkpoint(checkpoint, embeddings, vocab_size, device, lr, lr_w)\n",
    "# else: \n",
    "m = my_models.TripletNet(embeddings, vocab_size, device, lr=lr, freeze_encoder=False, margin=1)\n",
    "\n",
    "trained_model = torch.load(settings.dict_path)\n",
    "m.etm.load_state_dict(trained_model.state_dict())\n",
    "\n",
    "# Callbacks\n",
    "early_stopping = EarlyStopping(monitor='val_loss', patience=10)\n",
    "checkpoint = ModelCheckpoint(monitor='val_loss', dirpath='./models/checkpoints/')\n",
    "callbacks = [early_stopping, checkpoint]\n",
    "\n",
    "# logging\n",
    "logger = WandbLogger(save_dir='./savedata/', project='qualitative-analysis')\n",
    "\n",
    "trainer = Trainer(accelerator='ddp',\n",
    "                  max_epochs=max_epochs,\n",
    "                  accumulate_grad_batches=accumulate_grad_batches, \n",
    "                  gpus=[device_num],\n",
    "                  callbacks=callbacks,\n",
    "                  logger=logger,\n",
    "                  reload_dataloaders_every_epoch=True,\n",
    "                  log_every_n_steps=log_every_n_steps,\n",
    "                  val_check_interval=val_check_interval)\n",
    "\n",
    "trainer.fit(m, train_loader, test_loader)"
   ]
  },
  {
   "cell_type": "code",
   "execution_count": null,
   "metadata": {},
   "outputs": [],
   "source": [
    "m.weigh.W"
   ]
  },
  {
   "cell_type": "markdown",
   "metadata": {
    "id": "y8et6eIMcY8E"
   },
   "source": [
    "# Training and Testing"
   ]
  },
  {
   "cell_type": "code",
   "execution_count": null,
   "metadata": {},
   "outputs": [],
   "source": [
    "torch.save(m.state_dict(), \"triplet_model3.pt\")"
   ]
  },
  {
   "cell_type": "code",
   "execution_count": null,
   "metadata": {},
   "outputs": [],
   "source": [
    "torch.save(m.etm.state_dict(),'triplet_etm3.pt')"
   ]
  },
  {
   "cell_type": "markdown",
   "metadata": {},
   "source": [
    "# Debugging - run below cells"
   ]
  },
  {
   "cell_type": "markdown",
   "metadata": {},
   "source": [
    "def printgradnorm(self, grad_input, grad_output):\n",
    "    print(f\"Input: 1-norm={torch.linalg.norm(grad_input[0], 1)}, shape={grad_input[0].shape}\")\n",
    "    print(f\"Output: 1-norm={torch.linalg.norm(grad_output[0], 1)}, shape={grad_output[0].shape}\")\n",
    "\n",
    "\n",
    "#hook_handles.append(m.etm.q_theta[2].register_backward_hook(printgradnorm))"
   ]
  },
  {
   "cell_type": "markdown",
   "metadata": {},
   "source": [
    "hook_handles = []"
   ]
  },
  {
   "cell_type": "markdown",
   "metadata": {},
   "source": [
    "# Visualize Topic Embeddings"
   ]
  },
  {
   "cell_type": "code",
   "execution_count": null,
   "metadata": {},
   "outputs": [],
   "source": [
    "# get the trained topic weights\n",
    "weights = m.distance.topic_map.lin2.weight.detach().cpu().numpy()\n",
    "# weights = m.distance.topic_map.detach().cpu().numpy()\n",
    "weights"
   ]
  },
  {
   "cell_type": "code",
   "execution_count": null,
   "metadata": {},
   "outputs": [],
   "source": [
    "# get the indices for the top topics\n",
    "top_topics = np.argsort(-np.abs(weights))\n",
    "top_topics, weights[top_topics]"
   ]
  },
  {
   "cell_type": "code",
   "execution_count": null,
   "metadata": {},
   "outputs": [],
   "source": [
    "# get the words for a topic\n",
    "def get_words(topic_ix, num_words=10):\n",
    "    word_distribution = m.etm.get_beta()[topic_ix].detach().cpu().numpy()\n",
    "    top_words = np.argsort(-word_distribution)[:num_words]\n",
    "\n",
    "    return [vocab[ix] for ix in top_words]"
   ]
  },
  {
   "cell_type": "code",
   "execution_count": null,
   "metadata": {},
   "outputs": [],
   "source": [
    "for topic in top_topics:\n",
    "    print(f'Topic {topic} : {get_words(topic)}')"
   ]
  },
  {
   "cell_type": "code",
   "execution_count": null,
   "metadata": {},
   "outputs": [],
   "source": []
  }
 ],
 "metadata": {
  "accelerator": "GPU",
  "colab": {
   "collapsed_sections": [],
   "name": "CelebA Pretrained.ipynb",
   "provenance": [],
   "toc_visible": true
  },
  "kernelspec": {
   "display_name": "Python 3",
   "language": "python",
   "name": "python3"
  },
  "language_info": {
   "codemirror_mode": {
    "name": "ipython",
    "version": 3
   },
   "file_extension": ".py",
   "mimetype": "text/x-python",
   "name": "python",
   "nbconvert_exporter": "python",
   "pygments_lexer": "ipython3",
   "version": "3.6.9"
  },
  "widgets": {
   "application/vnd.jupyter.widget-state+json": {
    "1bf80c5be0a545c69e31f37ec7a00719": {
     "model_module": "@jupyter-widgets/controls",
     "model_name": "DescriptionStyleModel",
     "state": {
      "_model_module": "@jupyter-widgets/controls",
      "_model_module_version": "1.5.0",
      "_model_name": "DescriptionStyleModel",
      "_view_count": null,
      "_view_module": "@jupyter-widgets/base",
      "_view_module_version": "1.2.0",
      "_view_name": "StyleView",
      "description_width": ""
     }
    },
    "2a71d790909e43fd8732382e36019371": {
     "model_module": "@jupyter-widgets/base",
     "model_name": "LayoutModel",
     "state": {
      "_model_module": "@jupyter-widgets/base",
      "_model_module_version": "1.2.0",
      "_model_name": "LayoutModel",
      "_view_count": null,
      "_view_module": "@jupyter-widgets/base",
      "_view_module_version": "1.2.0",
      "_view_name": "LayoutView",
      "align_content": null,
      "align_items": null,
      "align_self": null,
      "border": null,
      "bottom": null,
      "display": null,
      "flex": null,
      "flex_flow": null,
      "grid_area": null,
      "grid_auto_columns": null,
      "grid_auto_flow": null,
      "grid_auto_rows": null,
      "grid_column": null,
      "grid_gap": null,
      "grid_row": null,
      "grid_template_areas": null,
      "grid_template_columns": null,
      "grid_template_rows": null,
      "height": null,
      "justify_content": null,
      "justify_items": null,
      "left": null,
      "margin": null,
      "max_height": null,
      "max_width": null,
      "min_height": null,
      "min_width": null,
      "object_fit": null,
      "object_position": null,
      "order": null,
      "overflow": null,
      "overflow_x": null,
      "overflow_y": null,
      "padding": null,
      "right": null,
      "top": null,
      "visibility": null,
      "width": null
     }
    },
    "348285d4d0784f27a384cb4dcec7b60a": {
     "model_module": "@jupyter-widgets/base",
     "model_name": "LayoutModel",
     "state": {
      "_model_module": "@jupyter-widgets/base",
      "_model_module_version": "1.2.0",
      "_model_name": "LayoutModel",
      "_view_count": null,
      "_view_module": "@jupyter-widgets/base",
      "_view_module_version": "1.2.0",
      "_view_name": "LayoutView",
      "align_content": null,
      "align_items": null,
      "align_self": null,
      "border": null,
      "bottom": null,
      "display": null,
      "flex": null,
      "flex_flow": null,
      "grid_area": null,
      "grid_auto_columns": null,
      "grid_auto_flow": null,
      "grid_auto_rows": null,
      "grid_column": null,
      "grid_gap": null,
      "grid_row": null,
      "grid_template_areas": null,
      "grid_template_columns": null,
      "grid_template_rows": null,
      "height": null,
      "justify_content": null,
      "justify_items": null,
      "left": null,
      "margin": null,
      "max_height": null,
      "max_width": null,
      "min_height": null,
      "min_width": null,
      "object_fit": null,
      "object_position": null,
      "order": null,
      "overflow": null,
      "overflow_x": null,
      "overflow_y": null,
      "padding": null,
      "right": null,
      "top": null,
      "visibility": null,
      "width": null
     }
    },
    "3d47fdec9b2248cc9f68602baef4f674": {
     "model_module": "@jupyter-widgets/controls",
     "model_name": "LabelModel",
     "state": {
      "_dom_classes": [],
      "_model_module": "@jupyter-widgets/controls",
      "_model_module_version": "1.5.0",
      "_model_name": "LabelModel",
      "_view_count": null,
      "_view_module": "@jupyter-widgets/controls",
      "_view_module_version": "1.5.0",
      "_view_name": "LabelView",
      "description": "",
      "description_tooltip": null,
      "layout": "IPY_MODEL_348285d4d0784f27a384cb4dcec7b60a",
      "placeholder": "​",
      "style": "IPY_MODEL_1bf80c5be0a545c69e31f37ec7a00719",
      "value": " 0.01MB of 0.01MB uploaded (0.00MB deduped)\r"
     }
    },
    "4e37a7d950934142814cf90c380433a1": {
     "model_module": "@jupyter-widgets/controls",
     "model_name": "VBoxModel",
     "state": {
      "_dom_classes": [],
      "_model_module": "@jupyter-widgets/controls",
      "_model_module_version": "1.5.0",
      "_model_name": "VBoxModel",
      "_view_count": null,
      "_view_module": "@jupyter-widgets/controls",
      "_view_module_version": "1.5.0",
      "_view_name": "VBoxView",
      "box_style": "",
      "children": [
       "IPY_MODEL_3d47fdec9b2248cc9f68602baef4f674",
       "IPY_MODEL_54987a9a31994802ac7db2bcba1f8d0f"
      ],
      "layout": "IPY_MODEL_2a71d790909e43fd8732382e36019371"
     }
    },
    "54987a9a31994802ac7db2bcba1f8d0f": {
     "model_module": "@jupyter-widgets/controls",
     "model_name": "FloatProgressModel",
     "state": {
      "_dom_classes": [],
      "_model_module": "@jupyter-widgets/controls",
      "_model_module_version": "1.5.0",
      "_model_name": "FloatProgressModel",
      "_view_count": null,
      "_view_module": "@jupyter-widgets/controls",
      "_view_module_version": "1.5.0",
      "_view_name": "ProgressView",
      "bar_style": "",
      "description": "",
      "description_tooltip": null,
      "layout": "IPY_MODEL_c3e0cbe4cfcb4c1baa0f5f250da5a4d6",
      "max": 1,
      "min": 0,
      "orientation": "horizontal",
      "style": "IPY_MODEL_8d5ee593cd19475d80c8315caf097793",
      "value": 1
     }
    },
    "8d5ee593cd19475d80c8315caf097793": {
     "model_module": "@jupyter-widgets/controls",
     "model_name": "ProgressStyleModel",
     "state": {
      "_model_module": "@jupyter-widgets/controls",
      "_model_module_version": "1.5.0",
      "_model_name": "ProgressStyleModel",
      "_view_count": null,
      "_view_module": "@jupyter-widgets/base",
      "_view_module_version": "1.2.0",
      "_view_name": "StyleView",
      "bar_color": null,
      "description_width": ""
     }
    },
    "c3e0cbe4cfcb4c1baa0f5f250da5a4d6": {
     "model_module": "@jupyter-widgets/base",
     "model_name": "LayoutModel",
     "state": {
      "_model_module": "@jupyter-widgets/base",
      "_model_module_version": "1.2.0",
      "_model_name": "LayoutModel",
      "_view_count": null,
      "_view_module": "@jupyter-widgets/base",
      "_view_module_version": "1.2.0",
      "_view_name": "LayoutView",
      "align_content": null,
      "align_items": null,
      "align_self": null,
      "border": null,
      "bottom": null,
      "display": null,
      "flex": null,
      "flex_flow": null,
      "grid_area": null,
      "grid_auto_columns": null,
      "grid_auto_flow": null,
      "grid_auto_rows": null,
      "grid_column": null,
      "grid_gap": null,
      "grid_row": null,
      "grid_template_areas": null,
      "grid_template_columns": null,
      "grid_template_rows": null,
      "height": null,
      "justify_content": null,
      "justify_items": null,
      "left": null,
      "margin": null,
      "max_height": null,
      "max_width": null,
      "min_height": null,
      "min_width": null,
      "object_fit": null,
      "object_position": null,
      "order": null,
      "overflow": null,
      "overflow_x": null,
      "overflow_y": null,
      "padding": null,
      "right": null,
      "top": null,
      "visibility": null,
      "width": null
     }
    }
   }
  }
 },
 "nbformat": 4,
 "nbformat_minor": 4
}
